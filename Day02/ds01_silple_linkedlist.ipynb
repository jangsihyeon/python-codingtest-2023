{
 "cells": [
  {
   "attachments": {},
   "cell_type": "markdown",
   "metadata": {},
   "source": [
    "## 단순연결리스트\n",
    "\n",
    "노드 생성"
   ]
  },
  {
   "cell_type": "code",
   "execution_count": 8,
   "metadata": {},
   "outputs": [],
   "source": [
    "class Node:\n",
    "    def __init__(self) -> None:\n",
    "        self.data =None       # 현재 값\n",
    "        self.link =None       # 다음 노드 가리킴 \n",
    "\n",
    "    def __str__(self) -> str:\n",
    "        return f'{self.data}'"
   ]
  },
  {
   "cell_type": "code",
   "execution_count": 9,
   "metadata": {},
   "outputs": [
    {
     "name": "stdout",
     "output_type": "stream",
     "text": [
      "다현\n"
     ]
    }
   ],
   "source": [
    "node1= Node()\n",
    "node1.data='다현'\n",
    "\n",
    "print(node1)"
   ]
  },
  {
   "attachments": {},
   "cell_type": "markdown",
   "metadata": {},
   "source": [
    "두번째 노드 생성"
   ]
  },
  {
   "cell_type": "code",
   "execution_count": 10,
   "metadata": {},
   "outputs": [],
   "source": [
    "node2=Node()\n",
    "node2.data='정연'\n",
    "node1.link=node2    # 1번 노드의 링크에 두번째 노드 링크를 연결 "
   ]
  },
  {
   "attachments": {},
   "cell_type": "markdown",
   "metadata": {},
   "source": [
    "### 3번 노드 부터 계속"
   ]
  },
  {
   "cell_type": "code",
   "execution_count": 12,
   "metadata": {},
   "outputs": [],
   "source": [
    "node3 = Node()\n",
    "node3.data='쯔위'\n",
    "node2.link =node3\n",
    "\n",
    "node4= Node()\n",
    "node4.data= '사나'\n",
    "node3.link= node4\n",
    "\n",
    "node5=Node()\n",
    "node5.data='지효'\n",
    "node4.link=node5"
   ]
  },
  {
   "attachments": {},
   "cell_type": "markdown",
   "metadata": {},
   "source": [
    "### 연결리스트 출력"
   ]
  },
  {
   "cell_type": "code",
   "execution_count": 18,
   "metadata": {},
   "outputs": [
    {
     "name": "stdout",
     "output_type": "stream",
     "text": [
      "다현->정연->쯔위->사나->지효\n"
     ]
    }
   ],
   "source": [
    "print(node1.data, end='->')\n",
    "print(node1.link.data, end='->')             # 2  \n",
    "print(node1.link.link.data, end='->')        # 3  \n",
    "print(node1.link.link.link.data, end='->')   # 4 \n",
    "print(node1.link.link.link.link.data)        # 5"
   ]
  },
  {
   "attachments": {},
   "cell_type": "markdown",
   "metadata": {},
   "source": [
    "### 연결리스트 출력 함수 "
   ]
  },
  {
   "cell_type": "code",
   "execution_count": 26,
   "metadata": {},
   "outputs": [
    {
     "name": "stdout",
     "output_type": "stream",
     "text": [
      "다현->정연->재남->사나->지효\n"
     ]
    }
   ],
   "source": [
    "current = node1\n",
    "print(current.data, end='->')\n",
    "while current.link != None:\n",
    "    current= current.link\n",
    "    if current.link == None:\n",
    "        print(current.data)             # 뒤에 연결된 링크가 없으면(마지막 노드) end 삭제\n",
    "    else: \n",
    "        print(current.data, end='->')"
   ]
  },
  {
   "attachments": {},
   "cell_type": "markdown",
   "metadata": {},
   "source": [
    "### 연결리스트 새 노드 삽입 "
   ]
  },
  {
   "cell_type": "code",
   "execution_count": 24,
   "metadata": {},
   "outputs": [],
   "source": [
    "newNode= Node()\n",
    "newNode.data= '재남'\n",
    "newNode.link = node2.link        # 노드 3번(쯔위)의 위치값 \n",
    "node2.link = newNode"
   ]
  },
  {
   "attachments": {},
   "cell_type": "markdown",
   "metadata": {},
   "source": [
    " ## 쯔위 노드 삭제 "
   ]
  },
  {
   "cell_type": "code",
   "execution_count": 25,
   "metadata": {},
   "outputs": [],
   "source": [
    "newNode.link = node3.link   # 노드 4번 (사나)"
   ]
  },
  {
   "attachments": {},
   "cell_type": "markdown",
   "metadata": {},
   "source": [
    "삭제는 되지만 메모리 상 쯔위 노드는 삭제 x "
   ]
  },
  {
   "cell_type": "code",
   "execution_count": 27,
   "metadata": {},
   "outputs": [],
   "source": [
    "del(node3)         # 완전 삭제 "
   ]
  },
  {
   "cell_type": "markdown",
   "metadata": {},
   "source": []
  },
  {
   "cell_type": "code",
   "execution_count": null,
   "metadata": {},
   "outputs": [],
   "source": []
  }
 ],
 "metadata": {
  "kernelspec": {
   "display_name": "Python 3",
   "language": "python",
   "name": "python3"
  },
  "language_info": {
   "codemirror_mode": {
    "name": "ipython",
    "version": 3
   },
   "file_extension": ".py",
   "mimetype": "text/x-python",
   "name": "python",
   "nbconvert_exporter": "python",
   "pygments_lexer": "ipython3",
   "version": "3.11.1"
  },
  "orig_nbformat": 4,
  "vscode": {
   "interpreter": {
    "hash": "a3d8f53f1429d27b792a3789224562ddd32c1395c9a9cfbb17b3c19c3b9a493d"
   }
  }
 },
 "nbformat": 4,
 "nbformat_minor": 2
}
