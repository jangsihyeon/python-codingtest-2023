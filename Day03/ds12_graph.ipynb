{
 "cells": [
  {
   "attachments": {},
   "cell_type": "markdown",
   "metadata": {},
   "source": [
    "## 그래프"
   ]
  },
  {
   "cell_type": "code",
   "execution_count": 1,
   "metadata": {},
   "outputs": [],
   "source": [
    "class graph:\n",
    "    def __init__(self, size) -> None:\n",
    "        self.SIZE = size\n",
    "        self.graph = [[0 for _ in range(size)] for _ in range(size)]     # 2차원 배열"
   ]
  },
  {
   "cell_type": "code",
   "execution_count": 2,
   "metadata": {},
   "outputs": [
    {
     "name": "stdout",
     "output_type": "stream",
     "text": [
      "[0, 0, 0, 0]\n",
      "[0, 0, 0, 0]\n",
      "[0, 0, 0, 0]\n",
      "[0, 0, 0, 0]\n"
     ]
    }
   ],
   "source": [
    "g1= graph(4)\n",
    "for item in g1.graph:\n",
    "    print(item)"
   ]
  },
  {
   "cell_type": "code",
   "execution_count": 3,
   "metadata": {},
   "outputs": [],
   "source": [
    "# a에서 출발 \n",
    "g1.graph[0][1]= 1    #(a,b) 간선(edge)\n",
    "g1.graph[0][2]= 1    #(a,c) 간선(edge)\n",
    "g1.graph[0][3]= 1    #(a,d) 간선(edge)"
   ]
  },
  {
   "cell_type": "code",
   "execution_count": 4,
   "metadata": {},
   "outputs": [],
   "source": [
    "# b 출발 \n",
    "g1.graph[1][0]= 1       #(b, a) 간선(edge)\n",
    "# g1.graph[1][1]= 0     #(b, b) 간선(edge)\n",
    "g1.graph[1][2] = 1      #(b, c) 간선(edge)\n",
    "# g1.graph[1][3] = 0    #(b, d) 간선(edge)"
   ]
  },
  {
   "cell_type": "code",
   "execution_count": 5,
   "metadata": {},
   "outputs": [],
   "source": [
    "# c 출발\n",
    "g1.graph[2][0]= 1       #(c, a) 간선(edge)\n",
    "g1.graph[2][1]= 1       #(c, b) 간선(edge)\n",
    "# g1.graph[2][2]= 0     #(c, c) 간선(edge)\n",
    "g1.graph[2][3]= 1       #(c, d) 간선(edge)"
   ]
  },
  {
   "cell_type": "code",
   "execution_count": 6,
   "metadata": {},
   "outputs": [],
   "source": [
    "# d 출발\n",
    "g1.graph[3][0]= 1       #(d, a) 간선(edge)\n",
    "g1.graph[3][1]= 0     #(d, b) 간선(edge)\n",
    "g1.graph[3][2]= 1       #(d, c) 간선(edge)\n",
    "# g1.graph[3][3]= 0     #(d, d) 간선(edge)"
   ]
  },
  {
   "cell_type": "code",
   "execution_count": 7,
   "metadata": {},
   "outputs": [
    {
     "name": "stdout",
     "output_type": "stream",
     "text": [
      "무방향 그래프\n",
      "[0, 1, 1, 1]\n",
      "[1, 0, 1, 0]\n",
      "[1, 1, 0, 1]\n",
      "[1, 0, 1, 0]\n"
     ]
    }
   ],
   "source": [
    "print('무방향 그래프')\n",
    "for item in g1.graph:\n",
    "    print(item)"
   ]
  },
  {
   "cell_type": "code",
   "execution_count": 10,
   "metadata": {},
   "outputs": [],
   "source": [
    "# 방향성 그래프 G3\n",
    "g3 = graph(4)\n",
    "\n",
    "# g3.graph[0][0]=0     # a->a\n",
    "g3.graph[0][1]=1     # a->b\n",
    "g3.graph[0][2]=1     # a->c\n",
    "# g3.graph[0][3]=0     # a->d\n",
    "\n",
    "# g3.graph[1][0] =0    # b->a \n",
    "# g3.graph[1][1] =0    # b->b\n",
    "# g3.graph[1][2] =0    # b->c\n",
    "# g3.graph[1][3] =0    # b->d\n",
    "\n",
    "# g3.graph[2][0]=0     # c->a\n",
    "# g3.graph[2][1]=0     # c->b\n",
    "# g3.graph[2][2]=0     # c->c\n",
    "# g3.graph[2][3]=0     # c->d\n",
    "\n",
    "g3.graph[3][0]=1     # d->a\n",
    "# g3.graph[3][1]=0     # d->b\n",
    "g3.graph[3][2]=1     # d->c\n",
    "# g3.graph[3][3]=0     # d->d"
   ]
  },
  {
   "cell_type": "code",
   "execution_count": 11,
   "metadata": {},
   "outputs": [
    {
     "name": "stdout",
     "output_type": "stream",
     "text": [
      "방향성 그래프\n",
      "[0, 1, 1, 0]\n",
      "[0, 0, 0, 0]\n",
      "[0, 0, 0, 0]\n",
      "[1, 0, 1, 0]\n"
     ]
    }
   ],
   "source": [
    "print('방향성 그래프')\n",
    "for item in g3.graph:\n",
    "    print(item)"
   ]
  },
  {
   "cell_type": "code",
   "execution_count": null,
   "metadata": {},
   "outputs": [],
   "source": []
  }
 ],
 "metadata": {
  "kernelspec": {
   "display_name": "Python 3",
   "language": "python",
   "name": "python3"
  },
  "language_info": {
   "codemirror_mode": {
    "name": "ipython",
    "version": 3
   },
   "file_extension": ".py",
   "mimetype": "text/x-python",
   "name": "python",
   "nbconvert_exporter": "python",
   "pygments_lexer": "ipython3",
   "version": "3.11.1"
  },
  "orig_nbformat": 4,
  "vscode": {
   "interpreter": {
    "hash": "a3d8f53f1429d27b792a3789224562ddd32c1395c9a9cfbb17b3c19c3b9a493d"
   }
  }
 },
 "nbformat": 4,
 "nbformat_minor": 2
}
