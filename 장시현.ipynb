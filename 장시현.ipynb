{
 "cells": [
  {
   "attachments": {},
   "cell_type": "markdown",
   "metadata": {},
   "source": [
    "### 이해는 완벽하게 했습니다..!"
   ]
  },
  {
   "attachments": {},
   "cell_type": "markdown",
   "metadata": {},
   "source": [
    "## 1번 문제\n",
    "\n",
    "프로그래머스 Lev1. 카드 뭉치 "
   ]
  },
  {
   "cell_type": "code",
   "execution_count": 15,
   "metadata": {},
   "outputs": [
    {
     "name": "stdout",
     "output_type": "stream",
     "text": [
      "yes\n",
      "No\n"
     ]
    }
   ],
   "source": [
    "def solution1(cards1, cards2, goal):\n",
    "    answer = 'yes'\n",
    "    first = 0\n",
    "    second = 0\n",
    "\n",
    "    for i in range(len(goal)):\n",
    "        # [\"i\", \"drink\", \"water\"] 같은 단어가 card1 에 있다.\n",
    "        if len(cards1) > first  and cards1[first] == goal[i]:       # 두 조건 순서 조심 \n",
    "            first+=1\n",
    "        # [\"want\", \"to\"] 같은 단어가 card2 에 있다. \n",
    "        elif len(cards2) > second  and cards2[second] ==goal[i]:    # 두 조건 순서 조심\n",
    "            second+=1 \n",
    "        else:\n",
    "            answer ='No'\n",
    "            break\n",
    "        \n",
    "    return answer\n",
    "\n",
    "cards1 = [\"i\", \"drink\", \"water\"]\n",
    "cards2 = [\"want\", \"to\"]\n",
    "goal = [\"i\", \"want\", \"to\", \"drink\", \"water\"]\n",
    "\n",
    "print(solution1(cards1, cards2, goal)) # return Yes\n",
    "\n",
    "cards1 = [\"i\", \"water\", \"drink\"]\n",
    "cards2 = [\"want\", \"to\"]\n",
    "goal = [\"i\", \"want\", \"to\", \"drink\", \"water\"]\n",
    "\n",
    "print(solution1(cards1, cards2, goal)) # return No"
   ]
  },
  {
   "attachments": {},
   "cell_type": "markdown",
   "metadata": {},
   "source": [
    "## 2번 문제\n",
    "\n",
    "프로그래머스 Lev1. 체육복"
   ]
  },
  {
   "cell_type": "code",
   "execution_count": 1,
   "metadata": {},
   "outputs": [
    {
     "name": "stdout",
     "output_type": "stream",
     "text": [
      "{1, 3, 5}\n",
      "{2, 4}\n",
      "5\n",
      "{3}\n",
      "{2, 4}\n",
      "4\n",
      "{1}\n",
      "{3}\n",
      "2\n"
     ]
    }
   ],
   "source": [
    "def solution2(n, lost, reserve):\n",
    "    # set => 집합 표현 \n",
    "    reserve_= set(reserve)-set(lost)       # 여벌의 옷을 가져온 학생 - 체육복 없는 학생\n",
    "    lost_= set(lost)-set(reserve)          # 체육복 없는 학생 - 여벌 가져온 학생 \n",
    "\n",
    "    print(reserve_)\n",
    "    print(lost_)\n",
    "\n",
    "    for reserve in reserve_:\n",
    "        front = reserve-1\n",
    "        back = reserve+1\n",
    "        if front in lost_:\n",
    "            lost_.remove(front)          # 왼쪽 학생에게 옷을 빌려줘 \n",
    "        elif back in lost_:\n",
    "            lost_.remove(back)           # 오른쪽 학생에게 옷을 빌려줘 \n",
    "            \n",
    "    return n - len(lost_)                # 체육복이 없는 나은 학생 수 \n",
    "\n",
    "\n",
    "n = 5\n",
    "lost = [2, 4]\n",
    "reserve = [1,3,5]\n",
    "\n",
    "print(solution2(n, lost, reserve)) # return 5\n",
    "\n",
    "\n",
    "n = 5\n",
    "lost = [2, 4]\n",
    "reserve = [3]\n",
    "\n",
    "print(solution2(n, lost, reserve)) # return 4\n",
    "\n",
    "\n",
    "n = 3\n",
    "lost = [3]\n",
    "reserve = [1]\n",
    "\n",
    "print(solution2(n, lost, reserve)) # return 2"
   ]
  },
  {
   "cell_type": "code",
   "execution_count": null,
   "metadata": {},
   "outputs": [],
   "source": []
  }
 ],
 "metadata": {
  "kernelspec": {
   "display_name": "Python 3",
   "language": "python",
   "name": "python3"
  },
  "language_info": {
   "codemirror_mode": {
    "name": "ipython",
    "version": 3
   },
   "file_extension": ".py",
   "mimetype": "text/x-python",
   "name": "python",
   "nbconvert_exporter": "python",
   "pygments_lexer": "ipython3",
   "version": "3.11.1"
  },
  "orig_nbformat": 4,
  "vscode": {
   "interpreter": {
    "hash": "a3d8f53f1429d27b792a3789224562ddd32c1395c9a9cfbb17b3c19c3b9a493d"
   }
  }
 },
 "nbformat": 4,
 "nbformat_minor": 2
}
