{
 "cells": [
  {
   "attachments": {},
   "cell_type": "markdown",
   "metadata": {},
   "source": [
    "## 자료 구조 \n",
    "\n",
    "숫자의 합 - 백준 11720"
   ]
  },
  {
   "cell_type": "code",
   "execution_count": null,
   "metadata": {},
   "outputs": [],
   "source": [
    "# 문자열 파라미터 넣지 말기 \n",
    "n = int(input())\n",
    "numbers = list(input())\n",
    "sum = 0\n",
    "\n",
    "for i in numbers:\n",
    "    sum+=int(i) \n",
    "\n",
    "print(sum)"
   ]
  },
  {
   "cell_type": "code",
   "execution_count": null,
   "metadata": {},
   "outputs": [],
   "source": [
    "## 변경 후 \n",
    "\n",
    "n= int(input())\n",
    "numbers =list(map(int, input()))\n",
    "sum = 0\n",
    "\n",
    "for i in range(n):\n",
    "    sum+= numbers[i]\n",
    "print(sum)"
   ]
  },
  {
   "attachments": {},
   "cell_type": "markdown",
   "metadata": {},
   "source": [
    "### 평균 - 백준 온라인 1546"
   ]
  },
  {
   "cell_type": "code",
   "execution_count": null,
   "metadata": {},
   "outputs": [],
   "source": [
    "n =int(input())                          # 과목 수 \n",
    "mytest = list(map(int, input().split())) # 점수 다 받기 \n",
    "max_point = max(mytest)                  # 성적 중 최대 점수 \n",
    "mysum = 0                                # 성적 총 합 \n",
    "for i in mytest:\n",
    "    mysum += i \n",
    "print(mysum*100/max_point / n )          # 변경된 평균 구하기 "
   ]
  },
  {
   "attachments": {},
   "cell_type": "markdown",
   "metadata": {},
   "source": [
    "### 구간 합 구하기 4 - 백준 11659"
   ]
  },
  {
   "cell_type": "code",
   "execution_count": 37,
   "metadata": {},
   "outputs": [
    {
     "name": "stdout",
     "output_type": "stream",
     "text": [
      "12\n",
      "9\n",
      "1\n"
     ]
    }
   ],
   "source": [
    "# 입력 속도를 개선 (주피터는 x )\n",
    "import sys\n",
    "input= sys.stdin.readline\n",
    "\n",
    "N, M= tuple(map(int, input().split()))\n",
    "numbers =list(map(int, input().split()))\n",
    "sums= [0]      #  배열 0번째 인덱스 \n",
    "temp= 0\n",
    "\n",
    "for i in numbers:\n",
    "    temp = temp + i             # temp 5 9 12 14 15 순으로 변경 \n",
    "    sums.append(temp)\n",
    "    # [0, 5, 9, 12, 14, 15]\n",
    "\n",
    "for i in range(M): \n",
    "    x, y = tuple(map(int, input().split()))\n",
    "    print(sums[y]-sums[x-1])      # y 인덱스 값 - x 인덱스 값 의 차 ( 구간 합 )\n"
   ]
  },
  {
   "cell_type": "code",
   "execution_count": null,
   "metadata": {},
   "outputs": [],
   "source": []
  }
 ],
 "metadata": {
  "kernelspec": {
   "display_name": "Python 3",
   "language": "python",
   "name": "python3"
  },
  "language_info": {
   "codemirror_mode": {
    "name": "ipython",
    "version": 3
   },
   "file_extension": ".py",
   "mimetype": "text/x-python",
   "name": "python",
   "nbconvert_exporter": "python",
   "pygments_lexer": "ipython3",
   "version": "3.11.1"
  },
  "orig_nbformat": 4,
  "vscode": {
   "interpreter": {
    "hash": "a3d8f53f1429d27b792a3789224562ddd32c1395c9a9cfbb17b3c19c3b9a493d"
   }
  }
 },
 "nbformat": 4,
 "nbformat_minor": 2
}
